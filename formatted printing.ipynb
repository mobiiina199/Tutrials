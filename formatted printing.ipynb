{
 "cells": [
  {
   "cell_type": "code",
   "execution_count": 8,
   "metadata": {},
   "outputs": [],
   "source": [
    "import time"
   ]
  },
  {
   "cell_type": "code",
   "execution_count": 11,
   "metadata": {},
   "outputs": [
    {
     "name": "stdout",
     "output_type": "stream",
     "text": [
      "The user Dear Mobina was born 28 years ago.\n",
      "0.0\n"
     ]
    }
   ],
   "source": [
    "start = time.time()\n",
    "age = 28\n",
    "name = 'Dear Mobina'\n",
    "str_format = 'The user {} was born {} years ago.'.format(name, age)\n",
    "print(str_format)\n",
    "end = time.time()\n",
    "print(end - start)"
   ]
  },
  {
   "cell_type": "code",
   "execution_count": 10,
   "metadata": {},
   "outputs": [
    {
     "name": "stdout",
     "output_type": "stream",
     "text": [
      "The user Dear Mobina was born 28 years ago.\n",
      "0.00099945068359375\n"
     ]
    }
   ],
   "source": [
    "start = time.time()\n",
    "age = 28\n",
    "name = 'Dear Mobina'\n",
    "str_format = f'The user {name} was born {age} years ago.'\n",
    "print(str_format)\n",
    "end = time.time()\n",
    "print(end - start)"
   ]
  },
  {
   "cell_type": "code",
   "execution_count": 13,
   "metadata": {},
   "outputs": [
    {
     "name": "stdout",
     "output_type": "stream",
     "text": [
      "The user Dear Mobina was born 28 years ago.\n",
      "The user Dear Mobina was born 28 years ago.\n",
      "The user 28 was born Dear Mobina years ago.\n",
      "0.00099945068359375\n"
     ]
    }
   ],
   "source": [
    "start = time.time()\n",
    "age = 28\n",
    "name = 'Dear Mobina'\n",
    "print('The user {} was born {} years ago.'.format(name, age))\n",
    "print('The user {0} was born {1} years ago.'.format(name, age))\n",
    "print('The user {1} was born {0} years ago.'.format(name, age))\n",
    "end = time.time()\n",
    "print(end - start)"
   ]
  },
  {
   "cell_type": "code",
   "execution_count": 15,
   "metadata": {},
   "outputs": [],
   "source": [
    "data = [\n",
    "[\"Foo Bar\", 42],\n",
    "[\"Bjorg\", 12345],\n",
    "[\"Roza\", 7],\n",
    "[\"Long Name Joe\", 3],\n",
    "[\"Joe\", 12345677889]]"
   ]
  },
  {
   "cell_type": "code",
   "execution_count": 32,
   "metadata": {},
   "outputs": [
    {
     "name": "stdout",
     "output_type": "stream",
     "text": [
      "Foo Bar  42\n",
      "Bjorg  12345\n",
      "Roza  7\n",
      "Long Name Joe  3\n",
      "Joe  12345677889\n",
      "______________________________\n",
      "Foo Bar         |          42\n",
      "Bjorg           |       12345\n",
      "Roza            |           7\n",
      "Long Name Joe   |           3\n",
      "Joe             | 12345677889\n"
     ]
    }
   ],
   "source": [
    "for i in data:\n",
    "    print(\"{}  {}\".format(i[0], i[1]))\n",
    "\n",
    "print('_'*30)\n",
    "\n",
    "for i in data:\n",
    "    print(\"{:<15} | {:>11}\".format(i[0], i[1]))"
   ]
  },
  {
   "cell_type": "code",
   "execution_count": 41,
   "metadata": {},
   "outputs": [
    {
     "name": "stdout",
     "output_type": "stream",
     "text": [
      "\"Dear Mobina\"\n",
      "\"Dear Mobina    \"\n",
      "\"Dear Mobina    \"\n",
      "\"    Dear Mobina\"\n",
      "\"  Dear Mobina  \"\n"
     ]
    }
   ],
   "source": [
    "print('\"{}\"'.format(name))\n",
    "print('\"{:15}\"'.format(name))\n",
    "print('\"{:<15}\"'.format(name))\n",
    "print('\"{:>15}\"'.format(name))\n",
    "print('\"{:^15}\"'.format(name))"
   ]
  },
  {
   "cell_type": "code",
   "execution_count": 48,
   "metadata": {},
   "outputs": [
    {
     "name": "stdout",
     "output_type": "stream",
     "text": [
      "1100100\n",
      "d\n",
      "100\n",
      "144\n",
      "64\n",
      "64\n",
      "100\n"
     ]
    }
   ],
   "source": [
    "x = 100\n",
    "print(\"{:b}\".format(x)) # binary\n",
    "print(\"{:c}\".format(x)) # character\n",
    "print(\"{:d}\".format(x)) # decimal\n",
    "print(\"{:o}\".format(x)) # octal\n",
    "print(\"{:x}\".format(x)) # hexa\n",
    "print(\"{:X}\".format(x)) # hexa\n",
    "print(\"{:n}\".format(x)) # number"
   ]
  },
  {
   "cell_type": "code",
   "execution_count": 58,
   "metadata": {},
   "outputs": [
    {
     "name": "stdout",
     "output_type": "stream",
     "text": [
      "4.124589e+02\n",
      "4.124589E+02\n",
      "412.458911\n",
      "412.46\n",
      "412.458911\n",
      "412.459\n",
      "412.459\n",
      "412.459\n"
     ]
    }
   ],
   "source": [
    "x = 412.4589111161113\n",
    "print('{:e}'.format(x)) # exponent\n",
    "print('{:E}'.format(x)) # Exponent\n",
    "print('{:f}'.format(x)) # fixed point(default precision is 6)\n",
    "print('{:.2f}'.format(x)) # fixed point(set precision is 2)\n",
    "print('{:F}'.format(x))\n",
    "print('{:g}'.format(x))\n",
    "print('{:G}'.format(x))\n",
    "print('{:n}'.format(x))"
   ]
  },
  {
   "cell_type": "code",
   "execution_count": 74,
   "metadata": {},
   "outputs": [
    {
     "name": "stdout",
     "output_type": "stream",
     "text": [
      "the user Foo Bar was born 42.12 years ago.\n",
      "the user Foo Bar    was born 42.12 years ago.\n",
      "the user    Foo Bar was born 42.12 years ago.\n",
      "the user  Foo Bar   was born      42.12 years ago.\n",
      "the user     Foo Bar     was born 42.12 years ago.\n",
      "PI is '3.14'.\n",
      "PI is '3.142'.\n",
      "Area is '12.566370614359172'.\n",
      "Area is '12.566'.\n",
      "Area is '12.57'.\n"
     ]
    }
   ],
   "source": [
    "name = 'Foo Bar'\n",
    "age = 42.12\n",
    "pi = 3.141592653589793\n",
    "r = 2\n",
    "\n",
    "print(f'the user {name} was born {age} years ago.')\n",
    "print(f'the user {name:10} was born {age} years ago.')\n",
    "print(f'the user {name:>10} was born {age} years ago.')\n",
    "print(f'the user {name:^10} was born {age:>10} years ago.')\n",
    "print(f'the user {name:^15} was born {age} years ago.')\n",
    "\n",
    "\n",
    "print(f\"PI is '{pi:.3}'.\")\n",
    "print(f\"PI is '{pi:.3f}'.\")\n",
    "\n",
    "print(f\"Area is '{pi*r**2}'.\")\n",
    "print(f\"Area is '{pi*r**2:.3f}'.\")\n",
    "print(\"Area is '{:.2f}'.\".format(pi*r**2))\n",
    "\n"
   ]
  },
  {
   "cell_type": "code",
   "execution_count": 80,
   "metadata": {},
   "outputs": [
    {
     "name": "stdout",
     "output_type": "stream",
     "text": [
      "<65>\n",
      "<        65>\n",
      "<65        >\n",
      "<A>\n",
      "<65>\n",
      "<00065>\n"
     ]
    }
   ],
   "source": [
    "v = 65\n",
    "print('<%s>' % v)\n",
    "print('<%10s>' % v)\n",
    "print('<%-10s>' % v)\n",
    "print('<%c>' % v)\n",
    "print('<%d>' % v)\n",
    "print('<%0.5d>' % v)"
   ]
  },
  {
   "cell_type": "code",
   "execution_count": 88,
   "metadata": {},
   "outputs": [
    {
     "name": "stdout",
     "output_type": "stream",
     "text": [
      "{42}\n",
      "{ 42 }\n",
      "42%\n"
     ]
    }
   ],
   "source": [
    "print('{{{}}}'.format(42))\n",
    "print('{{ {} }}'.format(42))\n",
    "print('{}%'.format(42))"
   ]
  },
  {
   "cell_type": "code",
   "execution_count": null,
   "metadata": {},
   "outputs": [],
   "source": []
  }
 ],
 "metadata": {
  "kernelspec": {
   "display_name": "Python 3",
   "language": "python",
   "name": "python3"
  },
  "language_info": {
   "codemirror_mode": {
    "name": "ipython",
    "version": 3
   },
   "file_extension": ".py",
   "mimetype": "text/x-python",
   "name": "python",
   "nbconvert_exporter": "python",
   "pygments_lexer": "ipython3",
   "version": "3.8.5"
  }
 },
 "nbformat": 4,
 "nbformat_minor": 4
}
